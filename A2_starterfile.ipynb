{
 "cells": [
  {
   "cell_type": "markdown",
   "metadata": {},
   "source": [
    "# CPS 803 / CP 8318 Assignment 2\n",
    "## CPS 803 [30 Marks]\n",
    "## CP 8318 [36 Marks]"
   ]
  },
  {
   "cell_type": "markdown",
   "metadata": {},
   "source": [
    "## Import libraries"
   ]
  },
  {
   "cell_type": "code",
   "execution_count": 3,
   "metadata": {},
   "outputs": [],
   "source": [
    "import numpy as np\n",
    "import matplotlib.pyplot as plt\n",
    "# You may need some sklearn specific imports, or other standard toolboxes"
   ]
  },
  {
   "cell_type": "markdown",
   "metadata": {},
   "source": [
    "## Load dataset"
   ]
  },
  {
   "cell_type": "code",
   "execution_count": 4,
   "metadata": {},
   "outputs": [
    {
     "data": {
      "text/plain": [
       "array([[ 70.,  80.,  82., ...,   0.,   0.,   0.],\n",
       "       [151., 150., 147., ...,   0.,   0.,   0.],\n",
       "       [231., 212., 156., ...,   0.,   0.,   0.],\n",
       "       ...,\n",
       "       [ 74.,  81.,  87., ...,   1.,   0.,   0.],\n",
       "       [222., 227., 203., ...,   0.,   0.,   0.],\n",
       "       [195., 199., 205., ...,   1.,   0.,   0.]])"
      ]
     },
     "execution_count": 4,
     "metadata": {},
     "output_type": "execute_result"
    }
   ],
   "source": [
    "trainingset = np.loadtxt('training.csv', delimiter=',')\n",
    "testingset = np.loadtxt('test.csv', delimiter=',')\n",
    "\n",
    "trainingset"
   ]
  },
  {
   "cell_type": "markdown",
   "metadata": {},
   "source": [
    "## Split data"
   ]
  },
  {
   "cell_type": "code",
   "execution_count": 5,
   "metadata": {},
   "outputs": [],
   "source": [
    "n_inputs = 2304 # images are 48 x 48\n",
    "n_classes = 7 # 7 classes - as defined below\n",
    "img_dim = 48 # each input image dimension, width and height are both 48\n",
    "\n",
    "x_training = trainingset[:, 0:n_inputs] # Extract the first 2304 elements - the image\n",
    "y_training = trainingset[:, n_inputs:n_inputs + n_classes] # Extract the last 7 elements - a one hot category encoding\n",
    "\n",
    "x_testing = testingset[:, 0:n_inputs] # Extract the first 2304 elements - the image\n",
    "y_testing = testingset[:, n_inputs:n_inputs + n_classes] # Extract the last 7 elements - a one hot category encoding\n",
    "\n",
    "x_training = x_training.reshape(x_training.shape[0], 48, 48) # Make samples image shaped\n",
    "x_testing = x_testing.reshape(x_testing.shape[0], 48, 48) # Make samples image shaped"
   ]
  },
  {
   "cell_type": "code",
   "execution_count": 6,
   "metadata": {},
   "outputs": [],
   "source": [
    "def get_emotion(whichemotion):\n",
    "    if whichemotion.shape[0] == 1:\n",
    "        indx = whichemotion[0]\n",
    "    else:\n",
    "        indx = np.argmax(whichemotion)\n",
    "    if indx == 0:\n",
    "        return 'angry'\n",
    "    elif indx == 1:\n",
    "        return 'disgust'\n",
    "    elif indx == 2:\n",
    "        return 'fear'\n",
    "    elif indx == 3:\n",
    "        return 'happy'\n",
    "    elif indx == 4:\n",
    "        return 'sad'\n",
    "    elif indx == 5:\n",
    "        return 'surprise'\n",
    "    elif indx == 6:\n",
    "        return 'neutral'"
   ]
  },
  {
   "cell_type": "code",
   "execution_count": 208,
   "metadata": {},
   "outputs": [
    {
     "name": "stdout",
     "output_type": "stream",
     "text": [
      "(28709, 48, 48)\n",
      "(28709, 7)\n",
      "(3589, 48, 48)\n",
      "(3589, 7)\n"
     ]
    },
    {
     "data": {
      "image/png": "[encoded data removed]",
      "text/plain": [
       "<Figure size 432x288 with 1 Axes>"
      ]
     },
     "metadata": {
      "needs_background": "light"
     },
     "output_type": "display_data"
    },
    {
     "name": "stdout",
     "output_type": "stream",
     "text": [
      "facial emotion: neutral\n"
     ]
    }
   ],
   "source": [
    "print(x_training.shape)\n",
    "print(y_training.shape)\n",
    "\n",
    "print(x_testing.shape)\n",
    "print(y_testing.shape)\n",
    "\n",
    "sampleindex = np.random.randint(0,1000)\n",
    "sample = x_training[sampleindex, :]\n",
    "sample = sample.reshape(48, 48)\n",
    "\n",
    "plt.imshow(sample, cmap='gray')\n",
    "plt.show()\n",
    "print('facial emotion: %s' % get_emotion(y_training[sampleindex, :]))"
   ]
  },
  {
   "cell_type": "markdown",
   "metadata": {},
   "source": [
    "# Part I : Happy or Sad\n",
    "\n",
    "## For this part you will consider a binary classification problem - categorizing faces as happy or sad"
   ]
  },
  {
   "cell_type": "markdown",
   "metadata": {
    "collapsed": true
   },
   "source": [
    "[1 Mark] a. Sample from the data loaded above to include only the happy or sad cases"
   ]
  },
  {
   "cell_type": "code",
   "execution_count": 209,
   "metadata": {},
   "outputs": [
    {
     "name": "stdout",
     "output_type": "stream",
     "text": [
      "[0, 0, 1, 1, 1, 1, 0, 0, 1, 1, 1, 1, 1, 1, 1, 0, 1, 0, 1, 0]\n",
      "[0, 1, 1, 1, 0, 1, 0, 0, 0, 1, 1, 0, 1, 0, 0, 1, 1, 1, 0, 0]\n",
      "12045\n",
      "12045\n",
      "1548\n",
      "1548\n"
     ]
    }
   ],
   "source": [
    "# YOUR CODE HERE\n",
    "\n",
    "x_happy_sad_training=[]\n",
    "y_happy_sad_training=[]\n",
    "\n",
    "x_happy_sad_testing=[]\n",
    "y_happy_sad_testing=[]\n",
    "\n",
    "#1 = Happy\n",
    "#0 = Sad\n",
    "\n",
    "\n",
    "for i in range(len(x_training)):\n",
    "    #If the result is Happy\n",
    "    if y_training[i][3]==1:\n",
    "        x_happy_sad_training.append(x_training[i])\n",
    "        y_happy_sad_training.append(1)\n",
    "    #If the result is Sad\n",
    "    elif y_training[i][4]==1:\n",
    "        x_happy_sad_training.append(x_training[i])\n",
    "        y_happy_sad_training.append(0)\n",
    "\n",
    "        \n",
    "for i in range(len(x_testing)):\n",
    "     #If the result is Happy\n",
    "    if y_testing[i][3]==1:\n",
    "        x_happy_sad_testing.append(x_testing[i])\n",
    "        y_happy_sad_testing.append(1)\n",
    "    #If the result is Sad\n",
    "    elif y_testing[i][4]==1:\n",
    "        x_happy_sad_testing.append(x_testing[i])\n",
    "        y_happy_sad_testing.append(0)    \n",
    "        \n",
    "        \n",
    "        \n",
    "\n",
    "print(y_happy_sad_training[:20])\n",
    "print(y_happy_sad_testing[:20])\n",
    "print(len(y_happy_sad_training))\n",
    "print(len(x_happy_sad_training))\n",
    "print(len(y_happy_sad_testing))\n",
    "print(len(x_happy_sad_testing))\n",
    "\n",
    "#print(x_happy_sad[0:2])"
   ]
  },
  {
   "cell_type": "markdown",
   "metadata": {
    "collapsed": true
   },
   "source": [
    "[4 Marks] b. Apply PCA and LDA to represent the faces, display a sample of a few faces for each case. You may consider using one or both of these in the steps that follow if they are of any value (this is for you to decide)."
   ]
  },
  {
   "cell_type": "code",
   "execution_count": 210,
   "metadata": {},
   "outputs": [
    {
     "name": "stdout",
     "output_type": "stream",
     "text": [
      "12045\n",
      "1548\n"
     ]
    }
   ],
   "source": [
    "print(len(x_happy_sad_training))\n",
    "print(len(x_happy_sad_testing))"
   ]
  },
  {
   "cell_type": "code",
   "execution_count": 211,
   "metadata": {},
   "outputs": [],
   "source": [
    "# YOUR CODE HERE\n",
    "#Resize to not be 3 dimensions\n",
    "x_happy_sad_training = np.array(x_happy_sad_training).reshape(12045,48*48)\n",
    "x_happy_sad_testing = np.array(x_happy_sad_testing).reshape(1548,48*48)\n",
    "print(x_happy_sad_training.shape)\n",
    "print(x_happy_sad_testing.shape)"
   ]
  },
  {
   "cell_type": "code",
   "execution_count": 212,
   "metadata": {},
   "outputs": [
    {
     "name": "stdout",
     "output_type": "stream",
     "text": [
      "576\n",
      "(12045, 576)\n",
      "(1548, 576)\n"
     ]
    },
    {
     "data": {
      "image/png": "[encoded data removed]",
      "text/plain": [
       "<Figure size 432x288 with 1 Axes>"
      ]
     },
     "metadata": {
      "needs_background": "light"
     },
     "output_type": "display_data"
    },
    {
     "data": {
      "image/png": "[encoded data removed]",
      "text/plain": [
       "<Figure size 432x288 with 1 Axes>"
      ]
     },
     "metadata": {
      "needs_background": "light"
     },
     "output_type": "display_data"
    },
    {
     "data": {
      "image/png": "[encoded data removed]",
      "text/plain": [
       "<Figure size 432x288 with 1 Axes>"
      ]
     },
     "metadata": {
      "needs_background": "light"
     },
     "output_type": "display_data"
    },
    {
     "data": {
      "image/png": "[encoded data removed]",
      "text/plain": [
       "<Figure size 432x288 with 1 Axes>"
      ]
     },
     "metadata": {
      "needs_background": "light"
     },
     "output_type": "display_data"
    },
    {
     "data": {
      "image/png": "[encoded data removed]",
      "text/plain": [
       "<Figure size 432x288 with 1 Axes>"
      ]
     },
     "metadata": {
      "needs_background": "light"
     },
     "output_type": "display_data"
    },
    {
     "data": {
      "image/png": "[encoded data removed]",
      "text/plain": [
       "<Figure size 432x288 with 1 Axes>"
      ]
     },
     "metadata": {
      "needs_background": "light"
     },
     "output_type": "display_data"
    },
    {
     "data": {
      "image/png": "[encoded data removed]",
      "text/plain": [
       "<Figure size 432x288 with 1 Axes>"
      ]
     },
     "metadata": {
      "needs_background": "light"
     },
     "output_type": "display_data"
    }
   ],
   "source": [
    "#PCA\n",
    "from sklearn.decomposition import PCA\n",
    "\n",
    "new_size = 24\n",
    "pca = PCA(n_components =new_size*new_size)\n",
    "pComponents = pca.fit(x_happy_sad_training)\n",
    "\n",
    "x_happy_sad_trainingPCA = pca.transform(x_happy_sad_training)\n",
    "x_happy_sad_testingPCA = pca.transform(x_happy_sad_testing)\n",
    "\n",
    "print(pca.n_components_)\n",
    "print(x_happy_sad_trainingPCA.shape)\n",
    "print(x_happy_sad_testingPCA.shape)\n",
    "\n",
    "for i in range(7):\n",
    "    randIndex = np.random.randint(0,1000)\n",
    "    sample1 = x_happy_sad_trainingPCA[randIndex]\n",
    "    sample1 = sample1.reshape(new_size, new_size)\n",
    "\n",
    "    plt.imshow(sample1, cmap='gray')\n",
    "    plt.show()\n",
    "    \n"
   ]
  },
  {
   "cell_type": "code",
   "execution_count": 213,
   "metadata": {},
   "outputs": [],
   "source": [
    "# #LDA\n",
    "# from sklearn.discriminant_analysis import LinearDiscriminantAnalysis\n",
    "# new_size = 24\n",
    "# lda = LinearDiscriminantAnalysis() #n_components =new_size*new_size\n",
    "# pComponentsLDA = lda.fit(x_happy_sad_training,y_happy_sad_training)\n",
    "\n",
    "# x_happy_sad_trainingLDA = lda.transform(x_happy_sad_training)\n",
    "# x_happy_sad_testingLDA = lda.transform(x_happy_sad_testing)\n",
    "\n",
    "# #print(len(lda[0]))\n",
    "# print(x_happy_sad_trainingLDA.shape)\n",
    "# print(x_happy_sad_testingLDA.shape)\n",
    "\n",
    "# for i in range(7):\n",
    "#     randIndex = np.random.randint(0,1000)\n",
    "#     sample1 = x_happy_sad_trainingLDA[randIndex]\n",
    "#     print(sample1)\n",
    "#     sample1 = sample1.reshape(new_size, new_size)\n",
    "\n",
    "#     plt.imshow(sample1, cmap='gray')\n",
    "#     plt.show()"
   ]
  },
  {
   "cell_type": "markdown",
   "metadata": {
    "collapsed": true
   },
   "source": [
    "[2 Marks] c. Apply naive Bayes to classify faces as happy or sad. Report your accuracy."
   ]
  },
  {
   "cell_type": "code",
   "execution_count": 214,
   "metadata": {},
   "outputs": [
    {
     "name": "stdout",
     "output_type": "stream",
     "text": [
      "0.5684754521963824\n",
      "              precision    recall  f1-score   support\n",
      "\n",
      "           0       0.49      0.41      0.44       653\n",
      "           1       0.61      0.68      0.65       895\n",
      "\n",
      "   micro avg       0.57      0.57      0.57      1548\n",
      "   macro avg       0.55      0.55      0.55      1548\n",
      "weighted avg       0.56      0.57      0.56      1548\n",
      "\n"
     ]
    }
   ],
   "source": [
    "# YOUR CODE HERE\n",
    "from sklearn.naive_bayes import GaussianNB\n",
    "from sklearn.metrics import confusion_matrix\n",
    "from sklearn.metrics import classification_report\n",
    "from sklearn.metrics import accuracy_score\n",
    "\n",
    "x_happy_sad_trainingNB = pca.transform(x_happy_sad_training)\n",
    "x_happy_sad_testingNB = pca.transform(x_happy_sad_testing)\n",
    "\n",
    "NBModel = GaussianNB()\n",
    "NBModel.fit(x_happy_sad_trainingNB, y_happy_sad_training)\n",
    "\n",
    "NB_preds = NBModel.predict(x_happy_sad_testingNB)\n",
    "\n",
    "print(accuracy_score(y_happy_sad_testing,NB_preds))\n",
    "print(classification_report(y_happy_sad_testing,NB_preds))\n"
   ]
  },
  {
   "cell_type": "markdown",
   "metadata": {},
   "source": [
    "Naive Bays\n",
    "Accuracy: ~56%\n"
   ]
  },
  {
   "cell_type": "markdown",
   "metadata": {
    "collapsed": true
   },
   "source": [
    "[2 Marks] d. Apply Logistic regression to classify faces as happy or sad. Report the accuracy."
   ]
  },
  {
   "cell_type": "code",
   "execution_count": 215,
   "metadata": {},
   "outputs": [
    {
     "name": "stderr",
     "output_type": "stream",
     "text": [
      "D:\\Program Files (x86)\\Anaconda\\lib\\site-packages\\sklearn\\linear_model\\logistic.py:433: FutureWarning: Default solver will be changed to 'lbfgs' in 0.22. Specify a solver to silence this warning.\n",
      "  FutureWarning)\n"
     ]
    },
    {
     "name": "stdout",
     "output_type": "stream",
     "text": [
      "0.7183462532299741\n",
      "              precision    recall  f1-score   support\n",
      "\n",
      "           0       0.70      0.58      0.64       653\n",
      "           1       0.73      0.82      0.77       895\n",
      "\n",
      "   micro avg       0.72      0.72      0.72      1548\n",
      "   macro avg       0.71      0.70      0.70      1548\n",
      "weighted avg       0.72      0.72      0.71      1548\n",
      "\n"
     ]
    }
   ],
   "source": [
    "# YOUR CODE HERE\n",
    "from sklearn.linear_model import LogisticRegression\n",
    "\n",
    "x_happy_sad_trainingLR = pca.transform(x_happy_sad_training)\n",
    "x_happy_sad_testingLR = pca.transform(x_happy_sad_testing)\n",
    "\n",
    "lr = LogisticRegression(random_state=0)\n",
    "lr.fit(x_happy_sad_trainingLR, y_happy_sad_training)\n",
    "lr_preds = lr.predict(x_happy_sad_testingLR)\n",
    "\n",
    "print(accuracy_score(y_happy_sad_testing,lr_preds))\n",
    "print(classification_report(y_happy_sad_testing,lr_preds))"
   ]
  },
  {
   "cell_type": "markdown",
   "metadata": {},
   "source": [
    "Logistic Regression\n",
    "Accuracy: ~72%"
   ]
  },
  {
   "cell_type": "markdown",
   "metadata": {
    "collapsed": true
   },
   "source": [
    "[2 Marks] e. Apply a Support Vector Machine to classify the faces as happy or sad. Choose parameters / arguments to try to maximize your accuracy. Report the accuracy."
   ]
  },
  {
   "cell_type": "code",
   "execution_count": 216,
   "metadata": {},
   "outputs": [
    {
     "name": "stdout",
     "output_type": "stream",
     "text": [
      "0.7409560723514211\n",
      "              precision    recall  f1-score   support\n",
      "\n",
      "           0       0.73      0.62      0.67       653\n",
      "           1       0.75      0.83      0.79       895\n",
      "\n",
      "   micro avg       0.74      0.74      0.74      1548\n",
      "   macro avg       0.74      0.72      0.73      1548\n",
      "weighted avg       0.74      0.74      0.74      1548\n",
      "\n"
     ]
    }
   ],
   "source": [
    "# YOUR CODE HERE\n",
    "from sklearn import svm\n",
    "\n",
    "x_happy_sad_trainingSVM = pca.transform(x_happy_sad_training)\n",
    "x_happy_sad_testingSVM = pca.transform(x_happy_sad_testing)\n",
    "\n",
    "svm_model = svm.SVC(gamma='scale')\n",
    "svm_model.fit(x_happy_sad_trainingSVM, y_happy_sad_training)\n",
    "svm_preds = svm_model.predict(x_happy_sad_testingSVM)\n",
    "\n",
    "print(accuracy_score(y_happy_sad_testing,svm_preds))\n",
    "print(classification_report(y_happy_sad_testing,svm_preds))"
   ]
  },
  {
   "cell_type": "markdown",
   "metadata": {},
   "source": [
    "Support Vector Machine Accuracy: ~74%"
   ]
  },
  {
   "cell_type": "markdown",
   "metadata": {},
   "source": [
    "[1 Mark] f. Which of the approaches above allow you to reliably determine the degree of happiness or sadness (i.e. how happy or how sad)? Which do you trust the most?"
   ]
  },
  {
   "cell_type": "markdown",
   "metadata": {},
   "source": [
    "Support vector machine and Logistic regression have the highest accuracy at around 73%. I trust SVM the most because it is good at separating groups of pixels using the support vectors. Logistic regression may have trouble separating clusters vertically where svm can have support vectors with infinitely many slopes to accomadate the different patterns in the pixels."
   ]
  },
  {
   "cell_type": "markdown",
   "metadata": {},
   "source": [
    "[2 Marks] g. Based on your answer to f. show the 5 happiest faces and the 5 saddest faces."
   ]
  },
  {
   "cell_type": "code",
   "execution_count": 35,
   "metadata": {},
   "outputs": [],
   "source": [
    "# YOUR CODE HERE\n",
    "\n"
   ]
  },
  {
   "cell_type": "markdown",
   "metadata": {},
   "source": [
    "# Part II : Multi-class"
   ]
  },
  {
   "cell_type": "markdown",
   "metadata": {
    "collapsed": true
   },
   "source": [
    "## For this part you will repeat the tasks in Part I, but instead consider the multi-class problem and classify inputs according to all 7 classes. "
   ]
  },
  {
   "cell_type": "markdown",
   "metadata": {},
   "source": [
    "[4 Marks] a. Apply PCA and LDA to represent the faces, display a sample of a few faces for each case. Produce a plot for PCA showing the cumulative variance captured by adding additional principal components (e.g. 1st PC, 1st + 2nd PC, etc.). On the same figure, plot the same curve for only happy and sad faces used in part 1."
   ]
  },
  {
   "cell_type": "code",
   "execution_count": 7,
   "metadata": {},
   "outputs": [
    {
     "name": "stdout",
     "output_type": "stream",
     "text": [
      "(28709,)\n",
      "(3589,)\n"
     ]
    }
   ],
   "source": [
    "#Change y values to 0-6 instead of an array\n",
    "\n",
    "y_full_training=[]\n",
    "y_full_testing=[]\n",
    "\n",
    "#Training\n",
    "for i in range(len(y_training)):\n",
    "    #Angry =0\n",
    "    if y_training[i][0]==1:\n",
    "        y_full_training.append(0) \n",
    "    #Disgust = 1\n",
    "    elif y_training[i][1]==1:\n",
    "        y_full_training.append(1) \n",
    "    #Fear\n",
    "    elif y_training[i][2]==1:\n",
    "        y_full_training.append(2) \n",
    "    #Happy\n",
    "    elif y_training[i][3]==1:\n",
    "        y_full_training.append(3) \n",
    "    #Sad\n",
    "    elif y_training[i][4]==1:\n",
    "        y_full_training.append(4) \n",
    "    #Suprise\n",
    "    elif y_training[i][5]==1:\n",
    "        y_full_training.append(5) \n",
    "    #Neutral\n",
    "    elif y_training[i][6]==1:\n",
    "        y_full_training.append(6)         \n",
    "\n",
    "#Testing\n",
    "for i in range(len(y_testing)):\n",
    "    #Angry =0\n",
    "    if y_testing[i][0]==1:\n",
    "        y_full_testing.append(0) \n",
    "    #Disgust = 1\n",
    "    elif y_testing[i][1]==1:\n",
    "        y_full_testing.append(1) \n",
    "    #Fear\n",
    "    elif y_testing[i][2]==1:\n",
    "        y_full_testing.append(2) \n",
    "    #Happy\n",
    "    elif y_testing[i][3]==1:\n",
    "        y_full_testing.append(3) \n",
    "    #Sad\n",
    "    elif y_testing[i][4]==1:\n",
    "        y_full_testing.append(4) \n",
    "    #Suprise\n",
    "    elif y_testing[i][5]==1:\n",
    "        y_full_testing.append(5) \n",
    "    #Neutral\n",
    "    elif y_testing[i][6]==1:\n",
    "        y_full_testing.append(6) \n",
    "        \n",
    "y_full_training = np.array(y_full_training)\n",
    "y_full_testing = np.array(y_full_testing)\n",
    "\n",
    "\n",
    "print(y_full_training.shape)\n",
    "print(y_full_testing.shape)     "
   ]
  },
  {
   "cell_type": "code",
   "execution_count": 8,
   "metadata": {},
   "outputs": [
    {
     "name": "stdout",
     "output_type": "stream",
     "text": [
      "(28709, 2304)\n",
      "(3589, 2304)\n"
     ]
    }
   ],
   "source": [
    "# YOUR CODE HERE\n",
    "#Reshape to be 2 dimensions\n",
    "x_full_training = np.array(x_training).reshape(28709,48*48)\n",
    "x_full_testing = np.array(x_testing).reshape(3589,48*48)\n",
    "print(x_full_training.shape)\n",
    "print(x_full_testing.shape)"
   ]
  },
  {
   "cell_type": "code",
   "execution_count": 9,
   "metadata": {},
   "outputs": [
    {
     "name": "stdout",
     "output_type": "stream",
     "text": [
      "576\n",
      "(28709, 576)\n",
      "(3589, 576)\n"
     ]
    },
    {
     "data": {
      "image/png": "[encoded data removed]",
      "text/plain": [
       "<Figure size 432x288 with 1 Axes>"
      ]
     },
     "metadata": {
      "needs_background": "light"
     },
     "output_type": "display_data"
    },
    {
     "data": {
      "image/png": "[encoded data removed]",
      "text/plain": [
       "<Figure size 432x288 with 1 Axes>"
      ]
     },
     "metadata": {
      "needs_background": "light"
     },
     "output_type": "display_data"
    },
    {
     "data": {
      "image/png": "[encoded data removed]",
      "text/plain": [
       "<Figure size 432x288 with 1 Axes>"
      ]
     },
     "metadata": {
      "needs_background": "light"
     },
     "output_type": "display_data"
    },
    {
     "data": {
      "image/png": "[encoded data removed]",
      "text/plain": [
       "<Figure size 432x288 with 1 Axes>"
      ]
     },
     "metadata": {
      "needs_background": "light"
     },
     "output_type": "display_data"
    },
    {
     "data": {
      "image/png": "[encoded data removed]",
      "text/plain": [
       "<Figure size 432x288 with 1 Axes>"
      ]
     },
     "metadata": {
      "needs_background": "light"
     },
     "output_type": "display_data"
    },
    {
     "data": {
      "image/png": "[encoded data removed]",
      "text/plain": [
       "<Figure size 432x288 with 1 Axes>"
      ]
     },
     "metadata": {
      "needs_background": "light"
     },
     "output_type": "display_data"
    },
    {
     "data": {
      "image/png": "[encoded data removed]",
      "text/plain": [
       "<Figure size 432x288 with 1 Axes>"
      ]
     },
     "metadata": {
      "needs_background": "light"
     },
     "output_type": "display_data"
    }
   ],
   "source": [
    "from sklearn.decomposition import PCA\n",
    "\n",
    "new_size = 24\n",
    "pca = PCA(n_components =new_size*new_size)\n",
    "pComponents = pca.fit(x_full_training)\n",
    "\n",
    "x_full_trainingPCA = pca.transform(x_full_training)\n",
    "x_full_testingPCA = pca.transform(x_full_testing)\n",
    "\n",
    "print(pca.n_components_)\n",
    "print(x_full_trainingPCA.shape)\n",
    "print(x_full_testingPCA.shape)\n",
    "\n",
    "for i in range(7):\n",
    "    randIndex = np.random.randint(0,1000)\n",
    "    sample1 = x_full_trainingPCA[randIndex]\n",
    "    sample1 = sample1.reshape(new_size, new_size)\n",
    "\n",
    "    plt.imshow(sample1, cmap='gray')\n",
    "    plt.show()"
   ]
  },
  {
   "cell_type": "markdown",
   "metadata": {},
   "source": [
    "[2 Marks] b. Classify the faces using Naive Bayes and report your accuracy."
   ]
  },
  {
   "cell_type": "code",
   "execution_count": 10,
   "metadata": {},
   "outputs": [
    {
     "name": "stdout",
     "output_type": "stream",
     "text": [
      "0.18974644747840624\n"
     ]
    }
   ],
   "source": [
    "# YOUR CODE HERE\n",
    "from sklearn.naive_bayes import GaussianNB\n",
    "import seaborn as sn\n",
    "from sklearn.metrics import confusion_matrix\n",
    "from sklearn.metrics import classification_report\n",
    "from sklearn.metrics import accuracy_score\n",
    "\n",
    "x_full_trainingNB = pca.transform(x_full_training)\n",
    "x_full_testingNB = pca.transform(x_full_testing)\n",
    "\n",
    "NBModel = GaussianNB()\n",
    "NBModel.fit(x_full_trainingNB, y_full_training)\n",
    "\n",
    "NB_preds = NBModel.predict(x_full_testingNB)\n",
    "\n",
    "print(accuracy_score(y_full_testing,NB_preds))\n",
    "#print(classification_report(y_testing,NB_preds))"
   ]
  },
  {
   "cell_type": "markdown",
   "metadata": {},
   "source": [
    "Naive Bayes Multi Class Accuracy: ~18%"
   ]
  },
  {
   "cell_type": "markdown",
   "metadata": {},
   "source": [
    "Visualize the results of your classifier on the test set using a confusion matrix. Describe briefly how the multi-class nature of the problem is treated by the classifier.\n",
    "\n",
    "For Naive Bayes, the classifier will look at the different pixels while training and record the values of pixels or each emotion. When it trys to predict, it will look at the values of each pixel in the image, and calculate the probablity of the image being a particular emotion given the positions and values of each pixel. The emotion with the highest probability will be the emotion that the model predicts"
   ]
  },
  {
   "cell_type": "code",
   "execution_count": 11,
   "metadata": {},
   "outputs": [
    {
     "data": {
      "image/png": "[encoded data removed]",
      "text/plain": [
       "<Figure size 432x288 with 2 Axes>"
      ]
     },
     "metadata": {
      "needs_background": "light"
     },
     "output_type": "display_data"
    }
   ],
   "source": [
    "cm=confusion_matrix(y_full_testing,NB_preds)\n",
    "sn.heatmap(cm, annot=True)\n",
    "#plt.imshow(cm)\n",
    "plt.show()"
   ]
  },
  {
   "cell_type": "markdown",
   "metadata": {},
   "source": [
    "[2 Marks] c. Classify the faces using logistic regression and report your accuracy."
   ]
  },
  {
   "cell_type": "code",
   "execution_count": 12,
   "metadata": {},
   "outputs": [
    {
     "name": "stderr",
     "output_type": "stream",
     "text": [
      "D:\\Program Files (x86)\\Anaconda\\lib\\site-packages\\sklearn\\linear_model\\logistic.py:433: FutureWarning: Default solver will be changed to 'lbfgs' in 0.22. Specify a solver to silence this warning.\n",
      "  FutureWarning)\n",
      "D:\\Program Files (x86)\\Anaconda\\lib\\site-packages\\sklearn\\linear_model\\logistic.py:460: FutureWarning: Default multi_class will be changed to 'auto' in 0.22. Specify the multi_class option to silence this warning.\n",
      "  \"this warning.\", FutureWarning)\n"
     ]
    },
    {
     "name": "stdout",
     "output_type": "stream",
     "text": [
      "0.38227918640289776\n"
     ]
    }
   ],
   "source": [
    "# YOUR CODE HERE\n",
    "from sklearn.linear_model import LogisticRegression\n",
    "\n",
    "x_full_trainingLR = pca.transform(x_full_training)\n",
    "x_full_testingLR = pca.transform(x_full_testing)\n",
    "\n",
    "LRModel = LogisticRegression(random_state=0)\n",
    "LRModel.fit(x_full_trainingLR, y_full_training)\n",
    "\n",
    "LR_preds = LRModel.predict(x_full_testingLR)\n",
    "\n",
    "print(accuracy_score(y_full_testing,LR_preds))\n",
    "#print(classification_report(y_testing,NB_preds))\n"
   ]
  },
  {
   "cell_type": "markdown",
   "metadata": {},
   "source": [
    "Linear Regression Multi Class Accuracy: ~38%"
   ]
  },
  {
   "cell_type": "markdown",
   "metadata": {},
   "source": [
    "Visualize the results of your classifier on the test set using a confusion matrix. Describe briefly how the multi-class nature of the problem is treated by the classifier.\n",
    "DESCRIBE BRIEFLY HERE"
   ]
  },
  {
   "cell_type": "code",
   "execution_count": 13,
   "metadata": {},
   "outputs": [
    {
     "data": {
      "image/png": "[encoded data removed]",
      "text/plain": [
       "<Figure size 432x288 with 2 Axes>"
      ]
     },
     "metadata": {
      "needs_background": "light"
     },
     "output_type": "display_data"
    }
   ],
   "source": [
    "cm=confusion_matrix(y_full_testing,LR_preds)\n",
    "sn.heatmap(cm, annot=True)\n",
    "#plt.imshow(cm)\n",
    "plt.show()"
   ]
  },
  {
   "cell_type": "markdown",
   "metadata": {},
   "source": [
    "[2 Marks] d. Classify the faces using a support vector machine and report your accuracy."
   ]
  },
  {
   "cell_type": "code",
   "execution_count": 16,
   "metadata": {},
   "outputs": [
    {
     "name": "stdout",
     "output_type": "stream",
     "text": [
      "0.44692114795207577\n"
     ]
    }
   ],
   "source": [
    "# YOUR CODE HERE\n",
    "\n",
    "from sklearn import svm\n",
    "\n",
    "x_full_trainingSVM = pca.transform(x_full_training)\n",
    "x_full_testingSVM = pca.transform(x_full_testing)\n",
    "\n",
    "SVMModel = svm.SVC(gamma='scale')\n",
    "SVMModel.fit(x_full_trainingSVM, y_full_training)\n",
    "\n",
    "SVM_preds = SVMModel.predict(x_full_testingSVM)\n",
    "\n",
    "print(accuracy_score(y_full_testing,SVM_preds))\n",
    "#print(classification_report(y_testing,NB_preds))"
   ]
  },
  {
   "cell_type": "markdown",
   "metadata": {},
   "source": [
    "SVM Multi Class Accuracy: ~44%\n",
    "\n"
   ]
  },
  {
   "cell_type": "markdown",
   "metadata": {},
   "source": [
    "Visualize the results of your classifier on the test set using a confusion matrix. Describe briefly how the multi-class nature of the problem is treated by the classifier.\n",
    "DESCRIBE BRIEFLY HERE"
   ]
  },
  {
   "cell_type": "code",
   "execution_count": 15,
   "metadata": {},
   "outputs": [
    {
     "data": {
      "image/png": "[encoded data removed]",
      "text/plain": [
       "<Figure size 432x288 with 2 Axes>"
      ]
     },
     "metadata": {
      "needs_background": "light"
     },
     "output_type": "display_data"
    }
   ],
   "source": [
    "cm=confusion_matrix(y_full_testing,LR_preds)\n",
    "sn.heatmap(cm, annot=True)\n",
    "#plt.imshow(cm)\n",
    "plt.show()"
   ]
  },
  {
   "cell_type": "markdown",
   "metadata": {},
   "source": [
    "[2 Marks] e. Which categories of faces seem to be most similar or least similar?\n",
    "EXPLAIN HERE"
   ]
  },
  {
   "cell_type": "markdown",
   "metadata": {},
   "source": [
    "[4 Marks] f. Let's assume that some of the faces were labeled wrong in producing the dataset. Propose and implement a solution that identifies images that are potentially mislabeled. Show 10 samples based on the method you choose."
   ]
  },
  {
   "cell_type": "code",
   "execution_count": 42,
   "metadata": {},
   "outputs": [],
   "source": [
    "# YOUR CODE HERE"
   ]
  },
  {
   "cell_type": "markdown",
   "metadata": {},
   "source": [
    "# 8318 only"
   ]
  },
  {
   "cell_type": "markdown",
   "metadata": {},
   "source": [
    "From all the classification approaches considered above, choose one to score faces based on a continuous valued prediction of for each of the categories."
   ]
  },
  {
   "cell_type": "markdown",
   "metadata": {},
   "source": [
    "[6 Marks] a. Produce a prediction for each face in the test set (this has 7 dimensions). Visualize these based on a 2D embedding of the scores. The \"data points\" plotted in the embedding should show the actual picture of the face, at the corresponding 2D point location. (You could consider using t-SNE for your embedding)"
   ]
  },
  {
   "cell_type": "code",
   "execution_count": 43,
   "metadata": {},
   "outputs": [],
   "source": [
    "# YOUR CODE HERE"
   ]
  },
  {
   "cell_type": "code",
   "execution_count": null,
   "metadata": {},
   "outputs": [],
   "source": []
  }
 ],
 "metadata": {
  "anaconda-cloud": {},
  "kernelspec": {
   "display_name": "Python 3",
   "language": "python",
   "name": "python3"
  },
  "language_info": {
   "codemirror_mode": {
    "name": "ipython",
    "version": 3
   },
   "file_extension": ".py",
   "mimetype": "text/x-python",
   "name": "python",
   "nbconvert_exporter": "python",
   "pygments_lexer": "ipython3",
   "version": "3.7.3"
  }
 },
 "nbformat": 4,
 "nbformat_minor": 1
}
